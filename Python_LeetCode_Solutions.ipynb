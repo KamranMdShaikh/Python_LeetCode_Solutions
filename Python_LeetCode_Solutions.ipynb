{
 "cells": [
  {
   "cell_type": "markdown",
   "metadata": {},
   "source": [
    "### Problem no: 367\n",
    "### Valid Perfect Square\n",
    "\n",
    "Given a positive integer num, write a function which returns True if num is a perfect square else False.\n",
    "\n",
    "Follow up: Do not use any built-in library function such as sqrt.\n",
    "\n",
    "\n",
    "Input: num = 16\n",
    "\n",
    "Output: true"
   ]
  },
  {
   "cell_type": "code",
   "execution_count": 1,
   "metadata": {},
   "outputs": [],
   "source": [
    "import numpy as np\n",
    "def isPerfectSquare(num):\n",
    "        y = np.sqrt(num)\n",
    "        m = y%1\n",
    "        if m == 0:\n",
    "            return True\n",
    "        else:\n",
    "            return False"
   ]
  },
  {
   "cell_type": "code",
   "execution_count": 2,
   "metadata": {},
   "outputs": [
    {
     "data": {
      "text/plain": [
       "True"
      ]
     },
     "execution_count": 2,
     "metadata": {},
     "output_type": "execute_result"
    }
   ],
   "source": [
    "num = 16\n",
    "isPerfectSquare(num)"
   ]
  },
  {
   "cell_type": "markdown",
   "metadata": {},
   "source": [
    "### Problem no: 1470\n",
    "### Shuffle the Array\n",
    "\n",
    "Given the array nums consisting of 2n elements in the form [x1,x2,...,xn,y1,y2,...,yn].\n",
    "\n",
    "Return the array in the form [x1,y1,x2,y2,...,xn,yn].\n",
    "\n",
    "\n",
    "\n",
    "Input: nums = [1,2,3,4,4,3,2,1], n = 4\n",
    "\n",
    "Output: [1,4,2,3,3,2,4,1]"
   ]
  },
  {
   "cell_type": "code",
   "execution_count": 3,
   "metadata": {},
   "outputs": [],
   "source": [
    "def shuffle(nums, n):\n",
    "    a = []\n",
    "    for i in range(n):\n",
    "        a.append(nums[i])\n",
    "        a.append(nums[i+n])\n",
    "    return a"
   ]
  },
  {
   "cell_type": "code",
   "execution_count": 4,
   "metadata": {},
   "outputs": [
    {
     "data": {
      "text/plain": [
       "[1, 4, 2, 3, 3, 2, 4, 1]"
      ]
     },
     "execution_count": 4,
     "metadata": {},
     "output_type": "execute_result"
    }
   ],
   "source": [
    "nums = [1,2,3,4,4,3,2,1]\n",
    "n = 4\n",
    "shuffle(nums, n)"
   ]
  },
  {
   "cell_type": "markdown",
   "metadata": {},
   "source": [
    "### Problem no: 1672\n",
    "### Richest Customer Wealth\n",
    "\n",
    "You are given an m x n integer grid accounts where accounts[i][j] is the amount of money the ith customer has in the jth bank. Return the wealth that the richest customer has.\n",
    "\n",
    "A customer's wealth is the amount of money they have in all their bank accounts. The richest customer is the customer that has the maximum wealth.\n",
    "\n",
    "\n",
    "\n",
    "Input: accounts = [[1,5],[7,3],[3,5]]\n",
    "\n",
    "Output: 10\n",
    "\n",
    "Explanation: \n",
    "\n",
    "1st customer has wealth = 6\n",
    "\n",
    "2nd customer has wealth = 10 \n",
    "\n",
    "3rd customer has wealth = 8\n",
    "\n",
    "The 2nd customer is the richest with a wealth of 10."
   ]
  },
  {
   "cell_type": "code",
   "execution_count": 5,
   "metadata": {},
   "outputs": [],
   "source": [
    "import numpy as np\n",
    "def maximumWealth(accounts):\n",
    "    sumn=[]\n",
    "    for x in accounts:\n",
    "        c=np.sum(x)\n",
    "        sumn.append(c)\n",
    "    sumn.sort()\n",
    "    return(sumn[-1])"
   ]
  },
  {
   "cell_type": "code",
   "execution_count": 6,
   "metadata": {},
   "outputs": [
    {
     "data": {
      "text/plain": [
       "10"
      ]
     },
     "execution_count": 6,
     "metadata": {},
     "output_type": "execute_result"
    }
   ],
   "source": [
    "accounts = [[1,5],[7,3],[3,5]]\n",
    "maximumWealth(accounts)"
   ]
  },
  {
   "cell_type": "markdown",
   "metadata": {},
   "source": [
    "### Problm no: 628\n",
    "### Given an integer array nums, find three numbers whose product is maximum and return the maximum product.\n",
    "\n",
    "Input: nums = [1,2,3]\n",
    "\n",
    "Output: 6"
   ]
  },
  {
   "cell_type": "code",
   "execution_count": 7,
   "metadata": {},
   "outputs": [],
   "source": [
    "def maximumProduct(nums):\n",
    "    nums= sorted(nums)\n",
    "\n",
    "    x1 = nums[0]*nums[1]*nums[-1]\n",
    "    x2 = nums[-1]*nums[-2]*nums[-3]\n",
    "\n",
    "\n",
    "    return max(x1,x2)"
   ]
  },
  {
   "cell_type": "code",
   "execution_count": 8,
   "metadata": {},
   "outputs": [
    {
     "data": {
      "text/plain": [
       "6"
      ]
     },
     "execution_count": 8,
     "metadata": {},
     "output_type": "execute_result"
    }
   ],
   "source": [
    "nums = [1,2,3]\n",
    "maximumProduct(nums)"
   ]
  }
 ],
 "metadata": {
  "kernelspec": {
   "display_name": "Python 3",
   "language": "python",
   "name": "python3"
  },
  "language_info": {
   "codemirror_mode": {
    "name": "ipython",
    "version": 3
   },
   "file_extension": ".py",
   "mimetype": "text/x-python",
   "name": "python",
   "nbconvert_exporter": "python",
   "pygments_lexer": "ipython3",
   "version": "3.7.6"
  }
 },
 "nbformat": 4,
 "nbformat_minor": 4
}
